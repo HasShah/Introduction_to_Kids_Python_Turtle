{
  "metadata": {
    "kernelspec": {
      "name": "python",
      "display_name": "Python (Pyodide)",
      "language": "python"
    },
    "language_info": {
      "codemirror_mode": {
        "name": "ipython",
        "version": 3
      },
      "file_extension": ".py",
      "mimetype": "text/x-python",
      "name": "python",
      "nbconvert_exporter": "python",
      "pygments_lexer": "ipython3",
      "version": "3.9.13"
    }
  },
  "nbformat_minor": 5,
  "nbformat": 4,
  "cells": [
    {
      "cell_type": "markdown",
      "source": "# Introduction to Kids",
      "metadata": {},
      "id": "453588ff"
    },
    {
      "cell_type": "markdown",
      "source": "## Chapter1: Getting started\n\nGetting Jupyter Notebook:\n\nTo get Jupiter Notebook, you can download and install the Anaconda distribution, which includes Jupiter Notebook as well as other useful tools for scientific computing and data science. You can download the distribution from the Anaconda website (https://www.anaconda.com/products/distribution/).\n",
      "metadata": {},
      "id": "5405971d"
    },
    {
      "cell_type": "markdown",
      "source": "### Installing Turtle Module:",
      "metadata": {},
      "id": "d3146619"
    },
    {
      "cell_type": "markdown",
      "source": "Mobilechelonian is a fork of the Python turtle library that allows for turtle graphics to be rendered in a browser, rather than in a separate window. To install Mobilechelonian in Jupiter Notebook, you will first need to install the mobilechelonian package using",
      "metadata": {},
      "id": "c7c58c3b"
    },
    {
      "cell_type": "code",
      "source": "#!pip install mobilechelonian",
      "metadata": {},
      "execution_count": 2,
      "outputs": [
        {
          "name": "stdout",
          "output_type": "stream",
          "text": "Collecting mobilechelonian\n\n  Downloading mobilechelonian-0.5-py2.py3-none-any.whl (94 kB)\n\n\u001b[2K     \u001b[90m━━━━━━━━━━━━━━━━━━━━━━━━━━━━━━━━━━━━━━━━\u001b[0m \u001b[32m94.5/94.5 kB\u001b[0m \u001b[31m3.4 MB/s\u001b[0m eta \u001b[36m0:00:00\u001b[0m\n\n\u001b[?25hRequirement already satisfied: IPython in /opt/anaconda3/lib/python3.9/site-packages (from mobilechelonian) (7.31.1)\n\nRequirement already satisfied: ipywidgets>=7.0.0 in /opt/anaconda3/lib/python3.9/site-packages (from mobilechelonian) (7.6.5)\n\nRequirement already satisfied: traitlets>=4.3.1 in /opt/anaconda3/lib/python3.9/site-packages (from ipywidgets>=7.0.0->mobilechelonian) (5.1.1)\n\nRequirement already satisfied: ipython-genutils~=0.2.0 in /opt/anaconda3/lib/python3.9/site-packages (from ipywidgets>=7.0.0->mobilechelonian) (0.2.0)\n\nRequirement already satisfied: ipykernel>=4.5.1 in /opt/anaconda3/lib/python3.9/site-packages (from ipywidgets>=7.0.0->mobilechelonian) (6.15.2)\n\nRequirement already satisfied: jupyterlab-widgets>=1.0.0 in /opt/anaconda3/lib/python3.9/site-packages (from ipywidgets>=7.0.0->mobilechelonian) (1.0.0)\n\nRequirement already satisfied: nbformat>=4.2.0 in /opt/anaconda3/lib/python3.9/site-packages (from ipywidgets>=7.0.0->mobilechelonian) (5.5.0)\n\nRequirement already satisfied: widgetsnbextension~=3.5.0 in /opt/anaconda3/lib/python3.9/site-packages (from ipywidgets>=7.0.0->mobilechelonian) (3.5.2)\n\nRequirement already satisfied: decorator in /opt/anaconda3/lib/python3.9/site-packages (from IPython->mobilechelonian) (5.1.1)\n\nRequirement already satisfied: appnope in /opt/anaconda3/lib/python3.9/site-packages (from IPython->mobilechelonian) (0.1.2)\n\nRequirement already satisfied: backcall in /opt/anaconda3/lib/python3.9/site-packages (from IPython->mobilechelonian) (0.2.0)\n\nRequirement already satisfied: setuptools>=18.5 in /opt/anaconda3/lib/python3.9/site-packages (from IPython->mobilechelonian) (63.4.1)\n\nRequirement already satisfied: pexpect>4.3 in /opt/anaconda3/lib/python3.9/site-packages (from IPython->mobilechelonian) (4.8.0)\n\nRequirement already satisfied: pygments in /opt/anaconda3/lib/python3.9/site-packages (from IPython->mobilechelonian) (2.11.2)\n\nRequirement already satisfied: jedi>=0.16 in /opt/anaconda3/lib/python3.9/site-packages (from IPython->mobilechelonian) (0.18.1)\n\nRequirement already satisfied: prompt-toolkit!=3.0.0,!=3.0.1,<3.1.0,>=2.0.0 in /opt/anaconda3/lib/python3.9/site-packages (from IPython->mobilechelonian) (3.0.20)\n\nRequirement already satisfied: pickleshare in /opt/anaconda3/lib/python3.9/site-packages (from IPython->mobilechelonian) (0.7.5)\n\nRequirement already satisfied: matplotlib-inline in /opt/anaconda3/lib/python3.9/site-packages (from IPython->mobilechelonian) (0.1.6)\n\nRequirement already satisfied: pyzmq>=17 in /opt/anaconda3/lib/python3.9/site-packages (from ipykernel>=4.5.1->ipywidgets>=7.0.0->mobilechelonian) (23.2.0)\n\nRequirement already satisfied: debugpy>=1.0 in /opt/anaconda3/lib/python3.9/site-packages (from ipykernel>=4.5.1->ipywidgets>=7.0.0->mobilechelonian) (1.5.1)\n\nRequirement already satisfied: psutil in /opt/anaconda3/lib/python3.9/site-packages (from ipykernel>=4.5.1->ipywidgets>=7.0.0->mobilechelonian) (5.9.0)\n\nRequirement already satisfied: packaging in /opt/anaconda3/lib/python3.9/site-packages (from ipykernel>=4.5.1->ipywidgets>=7.0.0->mobilechelonian) (21.3)\n\nRequirement already satisfied: tornado>=6.1 in /opt/anaconda3/lib/python3.9/site-packages (from ipykernel>=4.5.1->ipywidgets>=7.0.0->mobilechelonian) (6.1)\n\nRequirement already satisfied: nest-asyncio in /opt/anaconda3/lib/python3.9/site-packages (from ipykernel>=4.5.1->ipywidgets>=7.0.0->mobilechelonian) (1.5.5)\n\nRequirement already satisfied: jupyter-client>=6.1.12 in /opt/anaconda3/lib/python3.9/site-packages (from ipykernel>=4.5.1->ipywidgets>=7.0.0->mobilechelonian) (7.3.4)\n\nRequirement already satisfied: parso<0.9.0,>=0.8.0 in /opt/anaconda3/lib/python3.9/site-packages (from jedi>=0.16->IPython->mobilechelonian) (0.8.3)\n\nRequirement already satisfied: jsonschema>=2.6 in /opt/anaconda3/lib/python3.9/site-packages (from nbformat>=4.2.0->ipywidgets>=7.0.0->mobilechelonian) (4.16.0)\n\nRequirement already satisfied: jupyter_core in /opt/anaconda3/lib/python3.9/site-packages (from nbformat>=4.2.0->ipywidgets>=7.0.0->mobilechelonian) (4.11.1)\n\nRequirement already satisfied: fastjsonschema in /opt/anaconda3/lib/python3.9/site-packages (from nbformat>=4.2.0->ipywidgets>=7.0.0->mobilechelonian) (2.16.2)\n\nRequirement already satisfied: ptyprocess>=0.5 in /opt/anaconda3/lib/python3.9/site-packages (from pexpect>4.3->IPython->mobilechelonian) (0.7.0)\n\nRequirement already satisfied: wcwidth in /opt/anaconda3/lib/python3.9/site-packages (from prompt-toolkit!=3.0.0,!=3.0.1,<3.1.0,>=2.0.0->IPython->mobilechelonian) (0.2.5)\n\nRequirement already satisfied: notebook>=4.4.1 in /opt/anaconda3/lib/python3.9/site-packages (from widgetsnbextension~=3.5.0->ipywidgets>=7.0.0->mobilechelonian) (6.4.12)\n\nRequirement already satisfied: pyrsistent!=0.17.0,!=0.17.1,!=0.17.2,>=0.14.0 in /opt/anaconda3/lib/python3.9/site-packages (from jsonschema>=2.6->nbformat>=4.2.0->ipywidgets>=7.0.0->mobilechelonian) (0.18.0)\n\nRequirement already satisfied: attrs>=17.4.0 in /opt/anaconda3/lib/python3.9/site-packages (from jsonschema>=2.6->nbformat>=4.2.0->ipywidgets>=7.0.0->mobilechelonian) (21.4.0)\n\nRequirement already satisfied: python-dateutil>=2.8.2 in /opt/anaconda3/lib/python3.9/site-packages (from jupyter-client>=6.1.12->ipykernel>=4.5.1->ipywidgets>=7.0.0->mobilechelonian) (2.8.2)\n\nRequirement already satisfied: entrypoints in /opt/anaconda3/lib/python3.9/site-packages (from jupyter-client>=6.1.12->ipykernel>=4.5.1->ipywidgets>=7.0.0->mobilechelonian) (0.4)\n\nRequirement already satisfied: prometheus-client in /opt/anaconda3/lib/python3.9/site-packages (from notebook>=4.4.1->widgetsnbextension~=3.5.0->ipywidgets>=7.0.0->mobilechelonian) (0.14.1)\n\nRequirement already satisfied: jinja2 in /opt/anaconda3/lib/python3.9/site-packages (from notebook>=4.4.1->widgetsnbextension~=3.5.0->ipywidgets>=7.0.0->mobilechelonian) (2.11.3)\n\nRequirement already satisfied: nbconvert>=5 in /opt/anaconda3/lib/python3.9/site-packages (from notebook>=4.4.1->widgetsnbextension~=3.5.0->ipywidgets>=7.0.0->mobilechelonian) (6.4.4)\n\nRequirement already satisfied: argon2-cffi in /opt/anaconda3/lib/python3.9/site-packages (from notebook>=4.4.1->widgetsnbextension~=3.5.0->ipywidgets>=7.0.0->mobilechelonian) (21.3.0)\n\nRequirement already satisfied: Send2Trash>=1.8.0 in /opt/anaconda3/lib/python3.9/site-packages (from notebook>=4.4.1->widgetsnbextension~=3.5.0->ipywidgets>=7.0.0->mobilechelonian) (1.8.0)\n\nRequirement already satisfied: terminado>=0.8.3 in /opt/anaconda3/lib/python3.9/site-packages (from notebook>=4.4.1->widgetsnbextension~=3.5.0->ipywidgets>=7.0.0->mobilechelonian) (0.13.1)\n\nRequirement already satisfied: pyparsing!=3.0.5,>=2.0.2 in /opt/anaconda3/lib/python3.9/site-packages (from packaging->ipykernel>=4.5.1->ipywidgets>=7.0.0->mobilechelonian) (3.0.9)\n\nRequirement already satisfied: nbclient<0.6.0,>=0.5.0 in /opt/anaconda3/lib/python3.9/site-packages (from nbconvert>=5->notebook>=4.4.1->widgetsnbextension~=3.5.0->ipywidgets>=7.0.0->mobilechelonian) (0.5.13)\n\nRequirement already satisfied: pandocfilters>=1.4.1 in /opt/anaconda3/lib/python3.9/site-packages (from nbconvert>=5->notebook>=4.4.1->widgetsnbextension~=3.5.0->ipywidgets>=7.0.0->mobilechelonian) (1.5.0)\n\nRequirement already satisfied: beautifulsoup4 in /opt/anaconda3/lib/python3.9/site-packages (from nbconvert>=5->notebook>=4.4.1->widgetsnbextension~=3.5.0->ipywidgets>=7.0.0->mobilechelonian) (4.11.1)\n\nRequirement already satisfied: jupyterlab-pygments in /opt/anaconda3/lib/python3.9/site-packages (from nbconvert>=5->notebook>=4.4.1->widgetsnbextension~=3.5.0->ipywidgets>=7.0.0->mobilechelonian) (0.1.2)\n\nRequirement already satisfied: bleach in /opt/anaconda3/lib/python3.9/site-packages (from nbconvert>=5->notebook>=4.4.1->widgetsnbextension~=3.5.0->ipywidgets>=7.0.0->mobilechelonian) (4.1.0)\n\nRequirement already satisfied: testpath in /opt/anaconda3/lib/python3.9/site-packages (from nbconvert>=5->notebook>=4.4.1->widgetsnbextension~=3.5.0->ipywidgets>=7.0.0->mobilechelonian) (0.6.0)\n\nRequirement already satisfied: defusedxml in /opt/anaconda3/lib/python3.9/site-packages (from nbconvert>=5->notebook>=4.4.1->widgetsnbextension~=3.5.0->ipywidgets>=7.0.0->mobilechelonian) (0.7.1)\n\nRequirement already satisfied: mistune<2,>=0.8.1 in /opt/anaconda3/lib/python3.9/site-packages (from nbconvert>=5->notebook>=4.4.1->widgetsnbextension~=3.5.0->ipywidgets>=7.0.0->mobilechelonian) (0.8.4)\n\nRequirement already satisfied: MarkupSafe>=0.23 in /opt/anaconda3/lib/python3.9/site-packages (from jinja2->notebook>=4.4.1->widgetsnbextension~=3.5.0->ipywidgets>=7.0.0->mobilechelonian) (2.0.1)\n\nRequirement already satisfied: six>=1.5 in /opt/anaconda3/lib/python3.9/site-packages (from python-dateutil>=2.8.2->jupyter-client>=6.1.12->ipykernel>=4.5.1->ipywidgets>=7.0.0->mobilechelonian) (1.16.0)\n\nRequirement already satisfied: argon2-cffi-bindings in /opt/anaconda3/lib/python3.9/site-packages (from argon2-cffi->notebook>=4.4.1->widgetsnbextension~=3.5.0->ipywidgets>=7.0.0->mobilechelonian) (21.2.0)\n\nRequirement already satisfied: cffi>=1.0.1 in /opt/anaconda3/lib/python3.9/site-packages (from argon2-cffi-bindings->argon2-cffi->notebook>=4.4.1->widgetsnbextension~=3.5.0->ipywidgets>=7.0.0->mobilechelonian) (1.15.1)\n\nRequirement already satisfied: soupsieve>1.2 in /opt/anaconda3/lib/python3.9/site-packages (from beautifulsoup4->nbconvert>=5->notebook>=4.4.1->widgetsnbextension~=3.5.0->ipywidgets>=7.0.0->mobilechelonian) (2.3.1)\n\nRequirement already satisfied: webencodings in /opt/anaconda3/lib/python3.9/site-packages (from bleach->nbconvert>=5->notebook>=4.4.1->widgetsnbextension~=3.5.0->ipywidgets>=7.0.0->mobilechelonian) (0.5.1)\n\nRequirement already satisfied: pycparser in /opt/anaconda3/lib/python3.9/site-packages (from cffi>=1.0.1->argon2-cffi-bindings->argon2-cffi->notebook>=4.4.1->widgetsnbextension~=3.5.0->ipywidgets>=7.0.0->mobilechelonian) (2.21)\n\nInstalling collected packages: mobilechelonian\n\nSuccessfully installed mobilechelonian-0.5\n"
        }
      ],
      "id": "3a79259e"
    },
    {
      "cell_type": "markdown",
      "source": "### Importing the turtle library/module/package etc",
      "metadata": {},
      "id": "37b3a61f"
    },
    {
      "cell_type": "markdown",
      "source": "Once you have installed the package, you can import the turtle module in your notebook using the command",
      "metadata": {},
      "id": "285ccb60"
    },
    {
      "cell_type": "code",
      "source": "from mobilechelonian import Turtle\n",
      "metadata": {},
      "execution_count": 7,
      "outputs": [],
      "id": "029546ee"
    },
    {
      "cell_type": "markdown",
      "source": "### Initialize a turtle object:\nyou can name it whatever you want, I will call it t:",
      "metadata": {},
      "id": "2a64320b"
    },
    {
      "cell_type": "code",
      "source": "t = Turtle()\n",
      "metadata": {},
      "execution_count": 25,
      "outputs": [
        {
          "output_type": "display_data",
          "data": {
            "application/vnd.jupyter.widget-view+json": {
              "model_id": "a2f1f407c9ef48058a4174d92ba1a226",
              "version_major": 2,
              "version_minor": 0
            },
            "text/plain": [
              "Turtle()"
            ]
          },
          "metadata": {}
        }
      ],
      "id": "ccb0819f"
    },
    {
      "cell_type": "markdown",
      "source": "### Making my turtle move forward",
      "metadata": {},
      "id": "14b2e46d"
    },
    {
      "cell_type": "code",
      "source": "t.forward(100)",
      "metadata": {},
      "execution_count": null,
      "outputs": [],
      "id": "0e8e4d01"
    },
    {
      "cell_type": "code",
      "source": "t.forward(100)\nt.right(90)\nt.forward(100)\nt.right(90)\nt.forward(100)\nt.right(90)\nt.forward(100)\n\n",
      "metadata": {},
      "execution_count": 6,
      "outputs": [],
      "id": "85cf8300"
    },
    {
      "cell_type": "markdown",
      "source": "## Chapter 1.1",
      "metadata": {},
      "id": "6d7a4932"
    },
    {
      "cell_type": "markdown",
      "source": "### Variables",
      "metadata": {},
      "id": "de4d969c"
    },
    {
      "cell_type": "markdown",
      "source": "A variable is a way to store information in a computer program. Think of it like a container that holds a value, like a number or a word. You can use a variable to give a name to a value, so you don't have to remember or write the value every time you use it.\n\nWhen using the turtle module, you can use variables to store the turtle's position, its color, or the length of the lines it draws.\n\nHere's an example of how you can use a variable to store the length of the lines the turtle will draw:\n\n",
      "metadata": {},
      "id": "3cc0562c"
    },
    {
      "cell_type": "code",
      "source": "\nt = Turtle() # call the turtle screen\nline_length = 100\n\n# Use the variable to control the turtle's movement\nt.forward(line_length)\nt.right(90)\nt.forward(line_length)\nt.right(90)\nt.forward(line_length)\nt.right(90)\nt.forward(line_length)",
      "metadata": {},
      "execution_count": null,
      "outputs": [],
      "id": "9f153905"
    },
    {
      "cell_type": "markdown",
      "source": "",
      "metadata": {},
      "id": "1826b40d"
    },
    {
      "cell_type": "markdown",
      "source": "### Loops",
      "metadata": {},
      "id": "f337475c"
    },
    {
      "cell_type": "markdown",
      "source": "In Python, a loop is a way to repeat a set of instructions multiple times. The Turtle module is a fun way to visualize programming, it allows you to draw shapes and patterns using simple commands.\n\nFor example, let's say you want to draw a square using the turtle. You could use the turtle to move forward, turn right, and repeat these steps 4 times. But instead of writing the same commands 4 times, you can use a loop to repeat the commands for you.\n\nHere is an example of how you can use a \"for\" loop to draw a square using the turtle:",
      "metadata": {},
      "id": "38df143b"
    },
    {
      "cell_type": "code",
      "source": "# call the turtle screen\nt\n\n",
      "metadata": {},
      "execution_count": 9,
      "outputs": [
        {
          "output_type": "display_data",
          "data": {
            "application/vnd.jupyter.widget-view+json": {
              "model_id": "ee54bbaf5d3046ce9ffb4cdd22118981",
              "version_major": 2,
              "version_minor": 0
            },
            "text/plain": [
              "Turtle(points=[{'p': 1, 'lc': 'black', 'x': 200, 'y': 200, 'b': 0, 's': 1}])"
            ]
          },
          "metadata": {}
        }
      ],
      "id": "98310108"
    },
    {
      "cell_type": "code",
      "source": "# use a for loop to repeat the commands 4 times\nfor i in range(4):\n    t.forward(100)\n    t.right(90)\n",
      "metadata": {},
      "execution_count": 12,
      "outputs": [],
      "id": "b3755d86"
    },
    {
      "cell_type": "code",
      "source": "The above code will create a turtle object and then use a \"for\" loop to repeat the commands inside the loop 4 times. The turtle will move forward by 100 units and then turn right by 90 degrees. Because the loop repeats 4 times, the turtle will create a square.\n\nYou can also create loop that repeat indefinitely using \"while\" loop.",
      "metadata": {},
      "execution_count": null,
      "outputs": [],
      "id": "e7bb0540"
    },
    {
      "cell_type": "code",
      "source": "# call the turtle screen\nt\n",
      "metadata": {},
      "execution_count": 26,
      "outputs": [
        {
          "output_type": "display_data",
          "data": {
            "application/vnd.jupyter.widget-view+json": {
              "model_id": "a2f1f407c9ef48058a4174d92ba1a226",
              "version_major": 2,
              "version_minor": 0
            },
            "text/plain": [
              "Turtle(points=[{'p': 1, 'lc': 'black', 'x': 200, 'y': 200, 'b': 0, 's': 1}])"
            ]
          },
          "metadata": {}
        }
      ],
      "id": "3ae65369"
    },
    {
      "cell_type": "code",
      "source": "\nwhile True:\n    t.forward(100)\n    t.right(90)",
      "metadata": {},
      "execution_count": null,
      "outputs": [],
      "id": "7319894a"
    },
    {
      "cell_type": "markdown",
      "source": "The above code will create a turtle object and then use a \"while\" loop to repeat the commands inside the loop forever. The turtle will move forward by 100 units and then turn right by 90 degrees.\n\n\n",
      "metadata": {},
      "id": "90b28d68"
    },
    {
      "cell_type": "markdown",
      "source": "### Nested Loops",
      "metadata": {},
      "id": "872e0e4a"
    },
    {
      "cell_type": "markdown",
      "source": "A nested loop is like having a loop inside another loop. Imagine you want to draw multiple squares next to each other, instead of writing the same code over and over again, you can use a nested loop.\n\nLet's say you have a turtle and you want it to draw 4 squares next to each other. You can use a for loop to control the number of squares, and inside that loop, you can use another for loop to control the movements of the turtle to draw each square.\n\nSo the first loop will tell the turtle to move forward, turn right, move forward, turn right, and repeat that process 4 times to complete a square. And the second loop will tell the turtle to repeat this whole process of drawing a square 4 times. This way, you can easily control the number of squares you want to draw, and you don't have to write the same code multiple times.\n\nTo put it simply, a nested loop is like having a loop inside a loop that helps you repeat a process multiple times without having to write the same code over and over again.",
      "metadata": {},
      "id": "4ab76304"
    },
    {
      "cell_type": "code",
      "source": "t # screen pop up\n",
      "metadata": {},
      "execution_count": 23,
      "outputs": [
        {
          "output_type": "display_data",
          "data": {
            "application/vnd.jupyter.widget-view+json": {
              "model_id": "bc0b213f0b294a55a503dd4e1feecec5",
              "version_major": 2,
              "version_minor": 0
            },
            "text/plain": [
              "Turtle(points=[{'p': 1, 'lc': 'black', 'x': 200, 'y': 200, 'b': 0, 's': 1}, {'p': 1, 'lc': 'black', 'x': 300.0…"
            ]
          },
          "metadata": {}
        }
      ],
      "id": "e2951f9a"
    },
    {
      "cell_type": "code",
      "source": "for i in range(4):\n    for j in range(4):\n        t.forward(50)\n        t.right(90)",
      "metadata": {},
      "execution_count": 22,
      "outputs": [],
      "id": "c79bc6ef"
    },
    {
      "cell_type": "markdown",
      "source": "Here's another example of how you could use nested loops to draw multiple squares using the turtle module in Python:",
      "metadata": {},
      "id": "30f52725"
    },
    {
      "cell_type": "markdown",
      "source": "This code uses a for loop to repeat the commands inside the loop 3 times. The outer loop uses the variable \"i\" and range function to keep track of the number of squares to draw and it will execute 3 times.\nThe inner loop uses the variable \"j\" and range function to keep track of the number of iterations, and it will be executed 4 times to draw a square.\nInside the inner loop, the turtle module's forward() function is used to move the turtle forward by 10 units, and the right() function is used to turn the turtle right by 90 degrees, this will draw a square with a side length of 50 units.\nAfter the inner loop is finished, the turtle will move to the right by 150 units using t.penup() and t.forward(150) , and then t.pendown() to start drawing the next square.\nAlso, after the turtle moves forward, it will turn right by 90 degrees using t.right(90) to start drawing the next row.",
      "metadata": {},
      "id": "c58038c8"
    },
    {
      "cell_type": "code",
      "source": "t",
      "metadata": {},
      "execution_count": 27,
      "outputs": [
        {
          "output_type": "display_data",
          "data": {
            "application/vnd.jupyter.widget-view+json": {
              "model_id": "a2f1f407c9ef48058a4174d92ba1a226",
              "version_major": 2,
              "version_minor": 0
            },
            "text/plain": [
              "Turtle(points=[{'p': 1, 'lc': 'black', 'x': 200, 'y': 200, 'b': 0, 's': 1}])"
            ]
          },
          "metadata": {}
        }
      ],
      "id": "aef4a145"
    },
    {
      "cell_type": "code",
      "source": "\nfor i in range(3):\n    for j in range(4):\n        t.forward(10)\n        t.right(90)\n    t.penup()\n    t.forward(100)\n    t.pendown()\n    t.right(90)",
      "metadata": {},
      "execution_count": 28,
      "outputs": [],
      "id": "6b575cbe"
    },
    {
      "cell_type": "code",
      "source": "",
      "metadata": {},
      "execution_count": null,
      "outputs": [],
      "id": "00983236"
    }
  ]
}